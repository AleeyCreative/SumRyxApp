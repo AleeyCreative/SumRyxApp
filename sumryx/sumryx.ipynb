{
 "cells": [
  {
   "cell_type": "code",
   "execution_count": 83,
   "metadata": {},
   "outputs": [],
   "source": [
    "# importing dependencies\n",
    "from nltk.corpus import stopwords\n",
    "from nltk.stem import WordNetLemmatizer\n",
    "from nltk import pos_tag\n",
    "from nltk.tokenize import word_tokenize,sent_tokenize\n",
    "import string\n",
    "import operator\n",
    "import math\n",
    "import string\n",
    "from matplotlib import pyplot as plt\n",
    "from gensim.models.doc2vec import Doc2Vec, TaggedDocument\n",
    "from sklearn.cluster import Birch\n",
    "import os\n",
    "import numpy as np\n",
    "import pandas as pd\n",
    "import seaborn as sns\n",
    "import pikepdf\n",
    "\n",
    "%matplotlib inline"
   ]
  },
  {
   "cell_type": "code",
   "execution_count": 84,
   "metadata": {},
   "outputs": [],
   "source": [
    "def viz_clusters(X, labels):\n",
    "    \"\"\"\n",
    "    Takes in the datapoints and the cluster labels and then construcs a scatterplot indicatiing  each custer \n",
    "    \"\"\"\n",
    "    X = np.array(X)\n",
    "    plt.scatter(X[:,1], X[:,0], c=labels)\n",
    "    plt.show()\n",
    "    \n",
    "def viz_clusters_after(X, labels):\n",
    "    labels =list(set(X))\n",
    "    plt.plot(X[:,1], X[:,0], c=labels)\n",
    "    \n",
    "def draw_table(norm_X,mean,closest):\n",
    "    count = 0\n",
    "    sentences = []\n",
    "    for i in range(len(mean)):\n",
    "        sentences_with_label = [sent[1] for sent in norm_X if sent[0] == mean[i][0]]\n",
    "        for sent in sentences_with_label:\n",
    "            sentence_row = (count,sent,mean[i][0],mean[i][1],closest[i][1])\n",
    "            sentences.append(sentence_row)\n",
    "            count +=1\n",
    "    return np.array(sentences)"
   ]
  },
  {
   "cell_type": "code",
   "execution_count": 85,
   "metadata": {},
   "outputs": [],
   "source": [
    "def set_threshold(sentences):\n",
    "    return int(0.5 * len(sentences))\n"
   ]
  },
  {
   "cell_type": "code",
   "execution_count": 86,
   "metadata": {},
   "outputs": [],
   "source": [
    "# 1.0  SENTENCE PREPROCESSING\n",
    "def preprocess(words):\n",
    "    stp = stopwords.words('english')\n",
    "    white_list = ['Allah', 'God']\n",
    "    words = [word.lower() for word in words]\n",
    "    words = [lemmatize(word) for word in words]\n",
    "    words = [word for word in words if word not in stp]\n",
    "    words = [word for word in words if word not in string.punctuation]\n",
    "    return words\n",
    "\n",
    "def lemmatize(word):\n",
    "    wnl = WordNetLemmatizer()\n",
    "    lemmed = wnl.lemmatize(word)\n",
    "    return lemmed\n",
    "\n",
    "def tagger(sentence):\n",
    "    \"\"\"\n",
    "    takes a whole sentence as input and gets the Part-Of-Speech tag for each word in the sentence\n",
    "    \"\"\"\n",
    "    acceptable_words = []\n",
    "    word_tags = pos_tag(sentence)\n",
    "    print(word_tags)\n",
    "    for word_tag in word_tags:\n",
    "        if (word_tag[1] == \"NP\" or word_tag[1] == \"VP\"):\n",
    "            acceptable_words.append(word_tag[0])\n",
    "    return acceptable_words\n"
   ]
  },
  {
   "cell_type": "code",
   "execution_count": 87,
   "metadata": {},
   "outputs": [],
   "source": [
    "# 2.0 CLUSTERING\n",
    "def vectorize(document):\n",
    "    words = word_tokenize(document)\n",
    "    words = preprocess(words)\n",
    "    X = [TaggedDocument(word,[idnx]) for idnx,word in enumerate(words)]\n",
    "    vectorizer = Doc2Vec(X, size=10)\n",
    "    sentence_vectors = [vectorizer.infer_vector(word_tokenize(sen), alpha=2,steps=400) for sen in sent_tokenize(document)]\n",
    "    return sentence_vectors\n",
    "\n",
    "def determine_th(document):\n",
    "    no_sen = len(sent_tokenize(document)) # the number of sentences in the document\n",
    "    if(no_sen <=50):\n",
    "        return 0.3\n",
    "    if(no_sen > 50 and no_sen <= 100):\n",
    "        return 0.5\n",
    "    if(n0_sen > 100  and no_sen <= 150):\n",
    "        return 0.7\n",
    "    if(no_sen > 150):\n",
    "        return 0.9\n",
    "    \n",
    "def calculate_mean(X):\n",
    "    clusters = set([sent[0] for sent in X ])\n",
    "    cluster_mean = []\n",
    "    for cluster in clusters:\n",
    "        cluster_value = 0\n",
    "        count = 0\n",
    "        for i,element in enumerate(X):\n",
    "            if (cluster == element[0]):\n",
    "                cluster_value += element[1]\n",
    "                count += 1\n",
    "        mean_cluster_value = cluster_value/count\n",
    "        cluster_mean.append([cluster,mean_cluster_value])\n",
    "    print(\"Cluster Means:\")\n",
    "    print(cluster_mean)\n",
    "    return cluster_mean\n",
    "\n",
    "def find_minimum_from_mean(cluster_means, vectorized):\n",
    "    \"\"\"\n",
    "    This function computes the minimal distance between each element in X and the elements in Y\n",
    "    cluster_means : A 2D array\n",
    "    points : A 2D array consisting of cluster type and the corresponding value\n",
    "\n",
    "    It returns an array which consist of point in X and the corresponding point in Y with the smallest distance the point in X\n",
    "\n",
    "    \"\"\"\n",
    "    minimal_distances = []\n",
    "    for clm in cluster_means:\n",
    "        points_in_cluster = [v[1] for v in vectorized if v[0] == clm[0]]\n",
    "        minimal = points_in_cluster[0]\n",
    "        for pt in points_in_cluster:\n",
    "            diff_current = abs(clm[1] - pt) \n",
    "            diff_minimal = clm[1] - minimal\n",
    "            if (diff_current < diff_minimal):\n",
    "                  minimal = pt\n",
    "        minimal_distances.append((clm[0],minimal))\n",
    "    print(\"Minimal\", minimal_distances)\n",
    "    return minimal_distances\n",
    "\n",
    "def normalize_vector(v, labels):\n",
    "    vectorized = []\n",
    "    for i in range(len(v)):\n",
    "        mean = abs(sum(v[i]/len(v[i])))\n",
    "        vectorized.append((labels[i],mean))\n",
    "    return vectorized\n",
    "\n",
    "def vectors_to_sentences(clustered_sentences, sentence_vector, sentences):\n",
    "    index = 0\n",
    "    selected_sentences = []\n",
    "    top_sentences = [s[1] for s in clustered_sentences ]\n",
    "    for v in sentence_vector:\n",
    "        if v[1] in top_sentences:\n",
    "            print(v[1])\n",
    "            selected_sentences.append((index,sentences[index]))\n",
    "        index +=1\n",
    "    return selected_sentences\n",
    "\n"
   ]
  },
  {
   "cell_type": "code",
   "execution_count": 88,
   "metadata": {},
   "outputs": [],
   "source": [
    "def cluster_sentences(document):\n",
    "    X = vectorize(document)\n",
    "    th = determine_th(document)\n",
    "    bcl = Birch(branching_factor=10, n_clusters=None, threshold=th).fit(X) # the algorithm figures out the clusters\n",
    "    clusters = bcl.predict(X)\n",
    "    labels = bcl.labels_\n",
    "    norm_X = normalize_vector(X, labels)\n",
    "    viz_clusters(norm_X,labels) # visualization before finding the mean\n",
    "    cluster_means = calculate_mean(norm_X)\n",
    "    cluster_sentences = find_minimum_from_mean(cluster_means, norm_X)\n",
    "#     viz_clusters_after(cluster_sentences, set(labels)) # visualization after finding the closest to mean\n",
    "    sents = vectors_to_sentences(cluster_sentences, norm_X, sent_tokenize(document))\n",
    "    sentence_data = draw_table(norm_X,cluster_means,cluster_sentences)\n",
    "    sentence_data = pd.DataFrame(sentence_data, columns = ['Sentence', 'Vector_Value', ' Cluster_ID', 'Cluster_Mean', 'Closest_Sentence_Vector'])\n",
    "    return sents, sentence_data\n",
    "\n"
   ]
  },
  {
   "cell_type": "code",
   "execution_count": null,
   "metadata": {},
   "outputs": [],
   "source": []
  },
  {
   "cell_type": "code",
   "execution_count": null,
   "metadata": {},
   "outputs": [],
   "source": []
  },
  {
   "cell_type": "code",
   "execution_count": null,
   "metadata": {},
   "outputs": [],
   "source": []
  },
  {
   "cell_type": "code",
   "execution_count": null,
   "metadata": {},
   "outputs": [],
   "source": []
  },
  {
   "cell_type": "code",
   "execution_count": 89,
   "metadata": {},
   "outputs": [],
   "source": [
    "# SUMMARIZE DOCUMENT \n",
    "def summarizeDocument(document):\n",
    "    \"\"\"\n",
    "    functions takes a document and returns its summary\n",
    "    \"\"\"\n",
    "    sentences = sent_tokenize(document)\n",
    "    threshold = set_threshold(sent_tokenize(document))  \n",
    "    indexed_sentences, sentence_data = cluster_sentences(document) \n",
    "    summary = [sent[1] for sent in indexed_sentences]\n",
    "    return summary, sentence_data\n"
   ]
  },
  {
   "cell_type": "code",
   "execution_count": 99,
   "metadata": {},
   "outputs": [
    {
     "name": "stderr",
     "output_type": "stream",
     "text": [
      "/home/developer/.local/lib/python3.5/site-packages/gensim/models/doc2vec.py:574: UserWarning: The parameter `size` is deprecated, will be removed in 4.0.0, use `vector_size` instead.\n",
      "  warnings.warn(\"The parameter `size` is deprecated, will be removed in 4.0.0, use `vector_size` instead.\")\n",
      "WARNING:gensim.models.base_any2vec:consider setting layer size to a multiple of 4 for greater performance\n",
      "WARNING:gensim.models.doc2vec:Each 'words' should be a list of words (usually unicode strings). First 'words' here is instead plain <class 'str'>.\n",
      "WARNING:gensim.models.base_any2vec:under 10 jobs per worker: consider setting a smaller `batch_words' for smoother alpha decay\n"
     ]
    },
    {
     "data": {
      "image/png": "[encoded data removed]",
      "text/plain": [
       "<Figure size 432x288 with 1 Axes>"
      ]
     },
     "metadata": {
      "needs_background": "light"
     },
     "output_type": "display_data"
    },
    {
     "name": "stdout",
     "output_type": "stream",
     "text": [
      "Cluster Means:\n",
      "[[0, 0.027878005430102347], [1, 0.008751623741773074], [2, 0.01522156409919262], [3, 0.05900698900222778]]\n",
      "Minimal [(0, 0.0487155057489872), (1, 0.018661629619600717), (2, 0.01522156409919262), (3, 0.05900698900222778)]\n",
      "0.0487155057489872\n",
      "0.018661629619600717\n",
      "0.01522156409919262\n",
      "0.05900698900222778\n",
      "['Manually creating summaries can be a time-consuming activity.', 'When the volume of documents to be summarized becomes much, it becomes cumbersome to summarize these manually.', 'It also aims at producing summaries that covers the main ideas expressed in a passage.', 'Since documents are usually structured in such a way that different ideas are expressed at different sections (Rananavare & Reddy, 2017), the proposed system utilizes text clustering as a technique to handle this information spread as well reducing redundancy in the produced summaries by clustering sentences that most alike together and then picking a representative sentence from each cluster.']\n"
     ]
    },
    {
     "data": {
      "text/html": [
       "<div>\n",
       "<style scoped>\n",
       "    .dataframe tbody tr th:only-of-type {\n",
       "        vertical-align: middle;\n",
       "    }\n",
       "\n",
       "    .dataframe tbody tr th {\n",
       "        vertical-align: top;\n",
       "    }\n",
       "\n",
       "    .dataframe thead th {\n",
       "        text-align: right;\n",
       "    }\n",
       "</style>\n",
       "<table border=\"1\" class=\"dataframe\">\n",
       "  <thead>\n",
       "    <tr style=\"text-align: right;\">\n",
       "      <th></th>\n",
       "      <th>Sentence</th>\n",
       "      <th>Vector_Value</th>\n",
       "      <th>Cluster_ID</th>\n",
       "      <th>Cluster_Mean</th>\n",
       "      <th>Closest_Sentence_Vector</th>\n",
       "    </tr>\n",
       "  </thead>\n",
       "  <tbody>\n",
       "    <tr>\n",
       "      <th>0</th>\n",
       "      <td>0.0</td>\n",
       "      <td>0.048716</td>\n",
       "      <td>0.0</td>\n",
       "      <td>0.027878</td>\n",
       "      <td>0.048716</td>\n",
       "    </tr>\n",
       "    <tr>\n",
       "      <th>1</th>\n",
       "      <td>1.0</td>\n",
       "      <td>0.025898</td>\n",
       "      <td>0.0</td>\n",
       "      <td>0.027878</td>\n",
       "      <td>0.048716</td>\n",
       "    </tr>\n",
       "    <tr>\n",
       "      <th>2</th>\n",
       "      <td>2.0</td>\n",
       "      <td>0.027486</td>\n",
       "      <td>0.0</td>\n",
       "      <td>0.027878</td>\n",
       "      <td>0.048716</td>\n",
       "    </tr>\n",
       "    <tr>\n",
       "      <th>3</th>\n",
       "      <td>3.0</td>\n",
       "      <td>0.024390</td>\n",
       "      <td>0.0</td>\n",
       "      <td>0.027878</td>\n",
       "      <td>0.048716</td>\n",
       "    </tr>\n",
       "    <tr>\n",
       "      <th>4</th>\n",
       "      <td>4.0</td>\n",
       "      <td>0.012901</td>\n",
       "      <td>0.0</td>\n",
       "      <td>0.027878</td>\n",
       "      <td>0.048716</td>\n",
       "    </tr>\n",
       "    <tr>\n",
       "      <th>5</th>\n",
       "      <td>5.0</td>\n",
       "      <td>0.018662</td>\n",
       "      <td>1.0</td>\n",
       "      <td>0.008752</td>\n",
       "      <td>0.018662</td>\n",
       "    </tr>\n",
       "    <tr>\n",
       "      <th>6</th>\n",
       "      <td>6.0</td>\n",
       "      <td>0.004668</td>\n",
       "      <td>1.0</td>\n",
       "      <td>0.008752</td>\n",
       "      <td>0.018662</td>\n",
       "    </tr>\n",
       "    <tr>\n",
       "      <th>7</th>\n",
       "      <td>7.0</td>\n",
       "      <td>0.005015</td>\n",
       "      <td>1.0</td>\n",
       "      <td>0.008752</td>\n",
       "      <td>0.018662</td>\n",
       "    </tr>\n",
       "    <tr>\n",
       "      <th>8</th>\n",
       "      <td>8.0</td>\n",
       "      <td>0.012452</td>\n",
       "      <td>1.0</td>\n",
       "      <td>0.008752</td>\n",
       "      <td>0.018662</td>\n",
       "    </tr>\n",
       "    <tr>\n",
       "      <th>9</th>\n",
       "      <td>9.0</td>\n",
       "      <td>0.009845</td>\n",
       "      <td>1.0</td>\n",
       "      <td>0.008752</td>\n",
       "      <td>0.018662</td>\n",
       "    </tr>\n",
       "    <tr>\n",
       "      <th>10</th>\n",
       "      <td>10.0</td>\n",
       "      <td>0.001981</td>\n",
       "      <td>1.0</td>\n",
       "      <td>0.008752</td>\n",
       "      <td>0.018662</td>\n",
       "    </tr>\n",
       "    <tr>\n",
       "      <th>11</th>\n",
       "      <td>11.0</td>\n",
       "      <td>0.009670</td>\n",
       "      <td>1.0</td>\n",
       "      <td>0.008752</td>\n",
       "      <td>0.018662</td>\n",
       "    </tr>\n",
       "    <tr>\n",
       "      <th>12</th>\n",
       "      <td>12.0</td>\n",
       "      <td>0.007720</td>\n",
       "      <td>1.0</td>\n",
       "      <td>0.008752</td>\n",
       "      <td>0.018662</td>\n",
       "    </tr>\n",
       "    <tr>\n",
       "      <th>13</th>\n",
       "      <td>13.0</td>\n",
       "      <td>0.015222</td>\n",
       "      <td>2.0</td>\n",
       "      <td>0.015222</td>\n",
       "      <td>0.015222</td>\n",
       "    </tr>\n",
       "    <tr>\n",
       "      <th>14</th>\n",
       "      <td>14.0</td>\n",
       "      <td>0.059007</td>\n",
       "      <td>3.0</td>\n",
       "      <td>0.059007</td>\n",
       "      <td>0.059007</td>\n",
       "    </tr>\n",
       "  </tbody>\n",
       "</table>\n",
       "</div>"
      ],
      "text/plain": [
       "    Sentence  Vector_Value   Cluster_ID  Cluster_Mean  Closest_Sentence_Vector\n",
       "0        0.0      0.048716          0.0      0.027878                 0.048716\n",
       "1        1.0      0.025898          0.0      0.027878                 0.048716\n",
       "2        2.0      0.027486          0.0      0.027878                 0.048716\n",
       "3        3.0      0.024390          0.0      0.027878                 0.048716\n",
       "4        4.0      0.012901          0.0      0.027878                 0.048716\n",
       "5        5.0      0.018662          1.0      0.008752                 0.018662\n",
       "6        6.0      0.004668          1.0      0.008752                 0.018662\n",
       "7        7.0      0.005015          1.0      0.008752                 0.018662\n",
       "8        8.0      0.012452          1.0      0.008752                 0.018662\n",
       "9        9.0      0.009845          1.0      0.008752                 0.018662\n",
       "10      10.0      0.001981          1.0      0.008752                 0.018662\n",
       "11      11.0      0.009670          1.0      0.008752                 0.018662\n",
       "12      12.0      0.007720          1.0      0.008752                 0.018662\n",
       "13      13.0      0.015222          2.0      0.015222                 0.015222\n",
       "14      14.0      0.059007          3.0      0.059007                 0.059007"
      ]
     },
     "execution_count": 99,
     "metadata": {},
     "output_type": "execute_result"
    }
   ],
   "source": [
    "document = open('./raw_text/test__3.txt').read()\n",
    "summary,sentence_data = summarizeDocument(document)\n",
    "print(summary)\n",
    "sentence_data"
   ]
  },
  {
   "cell_type": "code",
   "execution_count": 100,
   "metadata": {},
   "outputs": [],
   "source": [
    "def summary_stats(doc,summary):\n",
    "    summ_stats = \"\"\"\n",
    "    No of Sentences : {no_sen}\n",
    "    No of Words : {no_words}\n",
    "    No of Characters : {no_char}\n",
    "    compression rate : {c_rate}%\n",
    "    \"\"\".format(no_sen = len(sent_tokenize(summary)), no_words = len(word_tokenize(summary)), no_char = len(summary), c_rate = (len(summary)/len(document) * 100 ))\n",
    "    return summ_stats"
   ]
  },
  {
   "cell_type": "code",
   "execution_count": 105,
   "metadata": {},
   "outputs": [
    {
     "data": {
      "text/plain": [
       "'\\n    No of Sentences : 4\\n    No of Words : 108\\n    No of Characters : 656\\n    compression rate : 27.903019991492982%\\n    '"
      ]
     },
     "execution_count": 105,
     "metadata": {},
     "output_type": "execute_result"
    }
   ],
   "source": [
    "result = open('./raw_text/summaries/by-sumryx/summary2.txt','w+')\n",
    "summary_text = \" \".join(summary) \n",
    "result.write(summary_text)\n",
    "summary_stats(document, summary_text)\n"
   ]
  },
  {
   "cell_type": "code",
   "execution_count": 102,
   "metadata": {},
   "outputs": [
    {
     "data": {
      "text/plain": [
       "15"
      ]
     },
     "execution_count": 102,
     "metadata": {},
     "output_type": "execute_result"
    }
   ],
   "source": [
    "len(sent_tokenize(document))"
   ]
  },
  {
   "cell_type": "code",
   "execution_count": 103,
   "metadata": {},
   "outputs": [
    {
     "data": {
      "text/plain": [
       "377"
      ]
     },
     "execution_count": 103,
     "metadata": {},
     "output_type": "execute_result"
    }
   ],
   "source": [
    "len(word_tokenize(document))"
   ]
  },
  {
   "cell_type": "code",
   "execution_count": 104,
   "metadata": {},
   "outputs": [
    {
     "data": {
      "text/plain": [
       "2351"
      ]
     },
     "execution_count": 104,
     "metadata": {},
     "output_type": "execute_result"
    }
   ],
   "source": [
    "len(document)"
   ]
  },
  {
   "cell_type": "code",
   "execution_count": null,
   "metadata": {},
   "outputs": [],
   "source": []
  },
  {
   "cell_type": "code",
   "execution_count": null,
   "metadata": {},
   "outputs": [],
   "source": []
  },
  {
   "cell_type": "code",
   "execution_count": null,
   "metadata": {},
   "outputs": [],
   "source": []
  },
  {
   "cell_type": "code",
   "execution_count": null,
   "metadata": {},
   "outputs": [],
   "source": []
  },
  {
   "cell_type": "code",
   "execution_count": null,
   "metadata": {},
   "outputs": [],
   "source": []
  },
  {
   "cell_type": "code",
   "execution_count": null,
   "metadata": {},
   "outputs": [],
   "source": []
  }
 ],
 "metadata": {
  "kernelspec": {
   "display_name": "Python 3",
   "language": "python",
   "name": "python3"
  },
  "language_info": {
   "codemirror_mode": {
    "name": "ipython",
    "version": 3
   },
   "file_extension": ".py",
   "mimetype": "text/x-python",
   "name": "python",
   "nbconvert_exporter": "python",
   "pygments_lexer": "ipython3",
   "version": "3.5.2"
  }
 },
 "nbformat": 4,
 "nbformat_minor": 4
}
