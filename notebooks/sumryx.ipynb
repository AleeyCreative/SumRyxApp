{
 "cells": [
  {
   "cell_type": "code",
   "execution_count": 2,
   "metadata": {},
   "outputs": [],
   "source": [
    "import nltk\n",
    "import gensim\n",
    "from nltk.corpus import stopwords\n",
    "from nlkt.tokenize import word_tokenize\n",
    "import re\n",
    "import math\n",
    "import pikepdf"
   ]
  },
  {
   "cell_type": "code",
   "execution_count": null,
   "metadata": {},
   "outputs": [],
   "source": [
    "## function to read file\n",
    "\n",
    "# def read_pdf_file(url): \n",
    "# def read_doc_file(url):\n",
    "# def read_epub_file(url):\n",
    "\n",
    "def readFile(url):\n",
    "    extension = url.split(\".\")[1]\n",
    "    document = None\n",
    "    if (extension == 'pdf'):\n",
    "        document = read_pdf_file(url)\n",
    "    elif (extension == 'doc' or extension == 'docx'):\n",
    "        document = read_doc_file(url)\n",
    "    elif (extension == 'txt'):\n",
    "        document = open(url).read()\n",
    "    elif (extension  == 'epub'):\n",
    "        document = read_epub_file()\n",
    "        "
   ]
  },
  {
   "cell_type": "code",
   "execution_count": null,
   "metadata": {},
   "outputs": [],
   "source": [
    "\n",
    "def remove_stop_words(text):\n",
    "    stp = stopwords.words(\"english\")\n",
    "    text = [word for word in word_tokenize(text) if word not in stp]\n",
    "    "
   ]
  }
 ],
 "metadata": {
  "kernelspec": {
   "display_name": "Python 3",
   "language": "python",
   "name": "python3"
  },
  "language_info": {
   "codemirror_mode": {
    "name": "ipython",
    "version": 3
   },
   "file_extension": ".py",
   "mimetype": "text/x-python",
   "name": "python",
   "nbconvert_exporter": "python",
   "pygments_lexer": "ipython3",
   "version": "3.5.2"
  }
 },
 "nbformat": 4,
 "nbformat_minor": 4
}
